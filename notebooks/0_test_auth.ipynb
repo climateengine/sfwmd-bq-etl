{
 "cells": [
  {
   "cell_type": "code",
   "execution_count": 1,
   "id": "initial_id",
   "metadata": {
    "collapsed": true,
    "ExecuteTime": {
     "end_time": "2023-09-29T22:08:07.988952246Z",
     "start_time": "2023-09-29T22:08:07.779770313Z"
    }
   },
   "outputs": [],
   "source": [
    "import ee\n",
    "import google.auth\n",
    "import google.oauth2.credentials\n",
    "from google.cloud import bigquery\n",
    "from google.cloud import storage\n",
    "\n",
    "# Test if running in Google Colab\n",
    "try:\n",
    "    import google.colab  # noqa: F401\n",
    "    IN_COLAB = True\n",
    "except ImportError:\n",
    "    IN_COLAB = False\n",
    "\n",
    "if IN_COLAB:\n",
    "    # If running in Google Colab, set your project ID below!\n",
    "    from google.colab import auth  # noqa: F401\n",
    "    auth.authenticate_user(project_id=\"YOUR_PROJECT_ID\")\n"
   ]
  },
  {
   "cell_type": "code",
   "execution_count": 2,
   "outputs": [],
   "source": [
    "# Get the default credentials\n",
    "# We need to set the scopes to the ones we need for BigQuery, Google Cloud Storage, and Google Earth Engine\n",
    "# If we don't set the scopes, we will get an error when we try to authenticate to Google Earth Engine\n",
    "\n",
    "scopes = [\n",
    "    \"openid\",\n",
    "    \"https://www.googleapis.com/auth/userinfo.email\",\n",
    "    \"https://www.googleapis.com/auth/userinfo.profile\",\n",
    "    \"https://www.googleapis.com/auth/accounts.reauth\",\n",
    "    \"https://www.googleapis.com/auth/earthengine\",\n",
    "    \"https://www.googleapis.com/auth/cloud-platform\",\n",
    "    \"https://www.googleapis.com/auth/bigquery\",\n",
    "    \"https://www.googleapis.com/auth/devstorage.read_write\",\n",
    "]\n",
    "\n",
    "# Get the default credentials\n",
    "credentials, project_id = google.auth.default(scopes=scopes)\n",
    "\n",
    "# Google Earth Engine requires the quota project to be set to None (this is undocumented)\n",
    "credentials = credentials.with_quota_project(None)"
   ],
   "metadata": {
    "collapsed": false,
    "ExecuteTime": {
     "end_time": "2023-09-29T22:08:27.416775618Z",
     "start_time": "2023-09-29T22:08:26.796331293Z"
    }
   },
   "id": "720d66c7940ce515"
  },
  {
   "cell_type": "code",
   "execution_count": 3,
   "outputs": [
    {
     "name": "stdout",
     "output_type": "stream",
     "text": [
      "Testing authentication to BigQuery...\n",
      "BigQuery authentication successful!\n"
     ]
    }
   ],
   "source": [
    "# Test authentication to BigQuery\n",
    "print(\"Testing authentication to BigQuery...\")\n",
    "client = bigquery.Client(credentials=credentials, project=project_id)\n",
    "datasets = list(client.list_datasets())\n",
    "if datasets:\n",
    "    print(\"BigQuery authentication successful!\")\n",
    "else:\n",
    "    print(\"BigQuery authentication failed!\")"
   ],
   "metadata": {
    "collapsed": false,
    "ExecuteTime": {
     "end_time": "2023-09-29T22:08:50.473492200Z",
     "start_time": "2023-09-29T22:08:49.927602249Z"
    }
   },
   "id": "63f842363b96e27b"
  },
  {
   "cell_type": "code",
   "execution_count": 4,
   "outputs": [
    {
     "name": "stdout",
     "output_type": "stream",
     "text": [
      "Testing authentication to Google Cloud Storage...\n",
      "Google Cloud Storage authentication successful!\n"
     ]
    }
   ],
   "source": [
    "# Test authentication to Google Cloud Storage\n",
    "print(\"Testing authentication to Google Cloud Storage...\")\n",
    "client = storage.Client(credentials=credentials, project=project_id)\n",
    "buckets = list(client.list_buckets())\n",
    "if buckets:\n",
    "    print(\"Google Cloud Storage authentication successful!\")\n",
    "else:\n",
    "    print(\"Google Cloud Storage authentication failed!\")"
   ],
   "metadata": {
    "collapsed": false,
    "ExecuteTime": {
     "end_time": "2023-09-29T22:09:03.066149329Z",
     "start_time": "2023-09-29T22:09:02.691274395Z"
    }
   },
   "id": "9c98b6f737c5d208"
  },
  {
   "cell_type": "code",
   "execution_count": 5,
   "outputs": [
    {
     "name": "stdout",
     "output_type": "stream",
     "text": [
      "Testing authentication to Google Earth Engine...\n",
      "Google Earth Engine authentication successful!\n"
     ]
    }
   ],
   "source": [
    "# Test authentication to Google Earth Engine\n",
    "print(\"Testing authentication to Google Earth Engine...\")\n",
    "try:\n",
    "    # We have already authenticated to Google Earth Engine using the default credentials above,\n",
    "    # so we don't need to run ee.Authenticate() here.\n",
    "    # IGNORE THE GEE DOCS - ee.Authenticate() is not needed!\n",
    "    # ee.Authenticate()  # This is not needed!\n",
    "\n",
    "    ee.Initialize(credentials=credentials, project=project_id)\n",
    "\n",
    "    # Test authentication by running a simple query\n",
    "    image = ee.Image(\"srtm90_v4\").getInfo()\n",
    "\n",
    "    print(\"Google Earth Engine authentication successful!\")\n",
    "except Exception as e:\n",
    "    print(\"Google Earth Engine authentication failed!\")\n",
    "    print(e)\n",
    "    raise e"
   ],
   "metadata": {
    "collapsed": false,
    "ExecuteTime": {
     "end_time": "2023-09-29T22:09:40.881484377Z",
     "start_time": "2023-09-29T22:09:39.282455099Z"
    }
   },
   "id": "7615fd6d1ec9de04"
  },
  {
   "cell_type": "code",
   "execution_count": null,
   "outputs": [],
   "source": [],
   "metadata": {
    "collapsed": false
   },
   "id": "1646a75fd95f55cd"
  }
 ],
 "metadata": {
  "kernelspec": {
   "display_name": "Python 3",
   "language": "python",
   "name": "python3"
  },
  "language_info": {
   "codemirror_mode": {
    "name": "ipython",
    "version": 2
   },
   "file_extension": ".py",
   "mimetype": "text/x-python",
   "name": "python",
   "nbconvert_exporter": "python",
   "pygments_lexer": "ipython2",
   "version": "2.7.6"
  }
 },
 "nbformat": 4,
 "nbformat_minor": 5
}
